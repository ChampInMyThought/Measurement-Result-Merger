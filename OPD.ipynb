{
 "cells": [
  {
   "cell_type": "markdown",
   "id": "50e5caf1",
   "metadata": {},
   "source": [
    "# Lab Result Merged\n",
    "\n",
    "This notebook provides code to merge data from multiple lab trials into a single Excel file. \n",
    "\n",
    "By executing the code, users can easily combine datasets from different experiments or studies for further analysis."
   ]
  },
  {
   "cell_type": "markdown",
   "id": "2b592820",
   "metadata": {},
   "source": [
    "## Importing Packages and Dependencies\n",
    "\n",
    "### This code needs to be executed before using the notebook."
   ]
  },
  {
   "cell_type": "code",
   "execution_count": 1,
   "id": "44c25ada",
   "metadata": {},
   "outputs": [],
   "source": [
    "from openpyxl import Workbook\n",
    "from openpyxl import load_workbook\n",
    "import pandas as pd"
   ]
  },
  {
   "cell_type": "markdown",
   "id": "ab732a1b",
   "metadata": {},
   "source": [
    "## SINGLE SUBSTANCE TEST\n",
    "\n",
    "This section is intended solely for testing purposes. \n",
    "Users may skip this section if they do not wish to test the code."
   ]
  },
  {
   "cell_type": "code",
   "execution_count": 2,
   "id": "144687ef",
   "metadata": {},
   "outputs": [
    {
     "data": {
      "text/plain": [
       "['Absorbance 1_01',\n",
       " 'Result summary',\n",
       " 'General information',\n",
       " 'Session information',\n",
       " 'Instrument information',\n",
       " 'Protocol parameters',\n",
       " 'Run log',\n",
       " 'Layout definitions']"
      ]
     },
     "execution_count": 2,
     "metadata": {},
     "output_type": "execute_result"
    }
   ],
   "source": [
    "workbook = Workbook()\n",
    "workbook = load_workbook(filename=\"2023-04-21 Diazinon_F132X/Abs250 Diazion(1)_0m.xlsx\")\n",
    "workbook.sheetnames"
   ]
  },
  {
   "cell_type": "code",
   "execution_count": 3,
   "id": "9ab5452a",
   "metadata": {},
   "outputs": [
    {
     "data": {
      "text/plain": [
       "<Worksheet \"Result summary\">"
      ]
     },
     "execution_count": 3,
     "metadata": {},
     "output_type": "execute_result"
    }
   ],
   "source": [
    "sheet = workbook[\"Result summary\"]\n",
    "sheet"
   ]
  },
  {
   "cell_type": "code",
   "execution_count": 4,
   "id": "030f9fd4",
   "metadata": {},
   "outputs": [
    {
     "data": {
      "text/plain": [
       "'Result summary'"
      ]
     },
     "execution_count": 4,
     "metadata": {},
     "output_type": "execute_result"
    }
   ],
   "source": [
    "sheet.title"
   ]
  },
  {
   "cell_type": "code",
   "execution_count": 5,
   "id": "906ee285",
   "metadata": {},
   "outputs": [
    {
     "name": "stdout",
     "output_type": "stream",
     "text": [
      "0.86075\n"
     ]
    }
   ],
   "source": [
    "blank = (sheet[\"E61\"].value + sheet[\"E49\"].value)/2\n",
    "print(blank)"
   ]
  },
  {
   "cell_type": "code",
   "execution_count": 6,
   "id": "c021584e",
   "metadata": {},
   "outputs": [
    {
     "name": "stdout",
     "output_type": "stream",
     "text": [
      "[-0.05755, -0.10535, -0.11275, 0.43085, -0.11325, 2.57325, 0.05765, 0.14505, -0.09795, -0.09615, -0.09395, 0.50265, 0.04525, 0.10445, 0.01465, 0.17645, -0.16495, 0.15245, -0.15125, -0.10475, 2.47795, 1.88375, 0.04985, -0.14065, -0.15385, -0.13005, -0.19225, -0.15655, 0.02895, 0.02135, 0.02425, -0.09835, 0.87675, 1.23335, -0.15455, -0.10785, -0.20615, 2.57035, 0.86155, 0.03745, 0.35675, 0.18225, 1.07895, -0.03905, -0.09745, 0.11775, -0.01855, -0.17565, 0.39165, 0.81015, 0.33055, -0.11345, 0.10315, 0.66625, 0.03285, 0.03905, -0.06365, -0.05815, -0.12325, 0.61095, 1.32735, 0.94395, 1.17285, 0.10915, -0.38705]\n"
     ]
    }
   ],
   "source": [
    "column = []\n",
    "for value in sheet.iter_rows(min_row=6,\n",
    "                              min_col=5,\n",
    "                              max_col=5,\n",
    "                              values_only=True):\n",
    "     column.append(round(value[0] - blank,5))\n",
    "print(column)"
   ]
  },
  {
   "cell_type": "markdown",
   "id": "7a3da8c3",
   "metadata": {},
   "source": [
    "## BATCH PROCESS FOR ALL SUBSTANCES\n",
    "\n",
    "### Getting Started\n",
    "To use this code, follow the instructions below:\n",
    "\n",
    "1.) Download this .ipynb notebook to the top-level folder that contains all the data you wish to process.\n",
    "\n",
    "2.) In the code cell, list the names of all folders containing the data that you wish to merge in `folders = [\"folder1\",\"folder2\"]`.\n",
    "\n",
    "3.) Specify the name of the file in each folder that you wish to merge using `file_dict = {\"folder_name\" : \"file_name\"}`.\n",
    "\n",
    "4.) The blank cell position can be customized by editing this line `blank = (sheet[\"E61\"].value + sheet[\"E49\"].value)/2`."
   ]
  },
  {
   "cell_type": "code",
   "execution_count": 29,
   "id": "a3edda88",
   "metadata": {},
   "outputs": [
    {
     "name": "stdout",
     "output_type": "stream",
     "text": [
      "2023-04-21 Diazinon_F132X/Abs250 Diazion(1)_0m.xlsx\n",
      "2023-04-21 Diazinon_F132X/Abs250 Diazion(1)_30m.xlsx\n",
      "2023-04-21 Diazinon_F132X/Abs250 Diazion(1)_1h.xlsx\n",
      "2023-04-21 Diazinon_F132X/Abs250 Diazion(1)_2h.xlsx\n",
      "2023-04-21 Diazinon_F132X/Abs250 Diazion(1)_4h.xlsx\n",
      "2023-04-21 Diazinon_F132X/Abs250 Diazion(1)_6h.xlsx\n",
      "2023-04-21 Diazinon_F132X/Abs250 Diazion(1)_18h.xlsx\n",
      "2023-04-21 Diazinon_F132X/Abs250 Diazion(1)_24h.xlsx\n",
      "2023-04-21 Diazinon_F132X/Abs250 Diazion(2)_0m.xlsx\n",
      "2023-04-21 Diazinon_F132X/Abs250 Diazion(2)_30m.xlsx\n",
      "2023-04-21 Diazinon_F132X/Abs250 Diazion(2)_1h.xlsx\n",
      "2023-04-21 Diazinon_F132X/Abs250 Diazion(2)_2h.xlsx\n",
      "2023-04-21 Diazinon_F132X/Abs250 Diazion(2)_4h.xlsx\n",
      "2023-04-21 Diazinon_F132X/Abs250 Diazion(2)_6h.xlsx\n",
      "2023-04-21 Diazinon_F132X/Abs250 Diazion(2)_18h.xlsx\n",
      "2023-04-21 Diazinon_F132X/Abs250 Diazion(2)_24h.xlsx\n",
      "2023-04-21 Diazinon_F132X/Abs250 Diazion(3)_0m.xlsx\n",
      "2023-04-21 Diazinon_F132X/Abs250 Diazion(3)_30m.xlsx\n",
      "2023-04-21 Diazinon_F132X/Abs250 Diazion(3)_1h.xlsx\n",
      "2023-04-21 Diazinon_F132X/Abs250 Diazion(3)_2h.xlsx\n",
      "2023-04-21 Diazinon_F132X/Abs250 Diazion(3)_4h.xlsx\n",
      "2023-04-21 Diazinon_F132X/Abs250 Diazion(3)_6h.xlsx\n",
      "2023-04-21 Diazinon_F132X/Abs250 Diazion(3)_18h.xlsx\n",
      "2023-04-21 Diazinon_F132X/Abs250 Diazion(3)_24h.xlsx\n",
      "2023-04-21 Paraoxon-ethyl_F132X/Abs400 Paraoxon-ethyl(1)_0m.xlsx\n",
      "2023-04-21 Paraoxon-ethyl_F132X/Abs400 Paraoxon-ethyl(1)_30m.xlsx\n",
      "2023-04-21 Paraoxon-ethyl_F132X/Abs400 Paraoxon-ethyl(1)_1h.xlsx\n",
      "2023-04-21 Paraoxon-ethyl_F132X/Abs400 Paraoxon-ethyl(1)_2h.xlsx\n",
      "2023-04-21 Paraoxon-ethyl_F132X/Abs400 Paraoxon-ethyl(1)_4h.xlsx\n",
      "2023-04-21 Paraoxon-ethyl_F132X/Abs400 Paraoxon-ethyl(1)_6h.xlsx\n",
      "2023-04-21 Paraoxon-ethyl_F132X/Abs400 Paraoxon-ethyl(1)_18h.xlsx\n",
      "2023-04-21 Paraoxon-ethyl_F132X/Abs400 Paraoxon-ethyl(1)_24h.xlsx\n",
      "2023-04-21 Paraoxon-ethyl_F132X/Abs400 Paraoxon-ethyl(2)_0m.xlsx\n",
      "2023-04-21 Paraoxon-ethyl_F132X/Abs400 Paraoxon-ethyl(2)_30m.xlsx\n",
      "2023-04-21 Paraoxon-ethyl_F132X/Abs400 Paraoxon-ethyl(2)_1h.xlsx\n",
      "2023-04-21 Paraoxon-ethyl_F132X/Abs400 Paraoxon-ethyl(2)_2h.xlsx\n",
      "2023-04-21 Paraoxon-ethyl_F132X/Abs400 Paraoxon-ethyl(2)_4h.xlsx\n",
      "2023-04-21 Paraoxon-ethyl_F132X/Abs400 Paraoxon-ethyl(2)_6h.xlsx\n",
      "2023-04-21 Paraoxon-ethyl_F132X/Abs400 Paraoxon-ethyl(2)_18h.xlsx\n",
      "2023-04-21 Paraoxon-ethyl_F132X/Abs400 Paraoxon-ethyl(2)_24h.xlsx\n",
      "2023-04-21 Paraoxon-ethyl_F132X/Abs400 Paraoxon-ethyl(3)_0m.xlsx\n",
      "2023-04-21 Paraoxon-ethyl_F132X/Abs400 Paraoxon-ethyl(3)_30m.xlsx\n",
      "2023-04-21 Paraoxon-ethyl_F132X/Abs400 Paraoxon-ethyl(3)_1h.xlsx\n",
      "2023-04-21 Paraoxon-ethyl_F132X/Abs400 Paraoxon-ethyl(3)_2h.xlsx\n",
      "2023-04-21 Paraoxon-ethyl_F132X/Abs400 Paraoxon-ethyl(3)_4h.xlsx\n",
      "2023-04-21 Paraoxon-ethyl_F132X/Abs400 Paraoxon-ethyl(3)_6h.xlsx\n",
      "2023-04-21 Paraoxon-ethyl_F132X/Abs400 Paraoxon-ethyl(3)_18h.xlsx\n",
      "2023-04-21 Paraoxon-ethyl_F132X/Abs400 Paraoxon-ethyl(3)_24h.xlsx\n",
      "2023-04-21 Parathion-ethyl_F132X/Abs400 Parathion-ethyl(1)_0m.xlsx\n",
      "2023-04-21 Parathion-ethyl_F132X/Abs400 Parathion-ethyl(1)_30m.xlsx\n",
      "2023-04-21 Parathion-ethyl_F132X/Abs400 Parathion-ethyl(1)_1h.xlsx\n",
      "2023-04-21 Parathion-ethyl_F132X/Abs400 Parathion-ethyl(1)_2h.xlsx\n",
      "2023-04-21 Parathion-ethyl_F132X/Abs400 Parathion-ethyl(1)_4h.xlsx\n",
      "2023-04-21 Parathion-ethyl_F132X/Abs400 Parathion-ethyl(1)_6h.xlsx\n",
      "2023-04-21 Parathion-ethyl_F132X/Abs400 Parathion-ethyl(1)_18h.xlsx\n",
      "2023-04-21 Parathion-ethyl_F132X/Abs400 Parathion-ethyl(1)_24h.xlsx\n",
      "2023-04-21 Parathion-ethyl_F132X/Abs400 Parathion-ethyl(2)_0m.xlsx\n",
      "2023-04-21 Parathion-ethyl_F132X/Abs400 Parathion-ethyl(2)_30m.xlsx\n",
      "2023-04-21 Parathion-ethyl_F132X/Abs400 Parathion-ethyl(2)_1h.xlsx\n",
      "2023-04-21 Parathion-ethyl_F132X/Abs400 Parathion-ethyl(2)_2h.xlsx\n",
      "2023-04-21 Parathion-ethyl_F132X/Abs400 Parathion-ethyl(2)_4h.xlsx\n",
      "2023-04-21 Parathion-ethyl_F132X/Abs400 Parathion-ethyl(2)_6h.xlsx\n",
      "2023-04-21 Parathion-ethyl_F132X/Abs400 Parathion-ethyl(2)_18h.xlsx\n",
      "2023-04-21 Parathion-ethyl_F132X/Abs400 Parathion-ethyl(2)_24h.xlsx\n",
      "2023-04-21 Parathion-ethyl_F132X/Abs400 Parathion-ethyl(3)_0m.xlsx\n",
      "2023-04-21 Parathion-ethyl_F132X/Abs400 Parathion-ethyl(3)_30m.xlsx\n",
      "2023-04-21 Parathion-ethyl_F132X/Abs400 Parathion-ethyl(3)_1h.xlsx\n",
      "2023-04-21 Parathion-ethyl_F132X/Abs400 Parathion-ethyl(3)_2h.xlsx\n",
      "2023-04-21 Parathion-ethyl_F132X/Abs400 Parathion-ethyl(3)_4h.xlsx\n",
      "2023-04-21 Parathion-ethyl_F132X/Abs400 Parathion-ethyl(3)_6h.xlsx\n",
      "2023-04-21 Parathion-ethyl_F132X/Abs400 Parathion-ethyl(3)_18h.xlsx\n",
      "2023-04-21 Parathion-ethyl_F132X/Abs400 Parathion-ethyl(3)_24h.xlsx\n"
     ]
    }
   ],
   "source": [
    "## Can be edited\n",
    "folders = [\"2023-04-21 Diazinon_F132X\",\n",
    "           \"2023-04-21 Paraoxon-ethyl_F132X\",\n",
    "           \"2023-04-21 Parathion-ethyl_F132X\"]\n",
    "\n",
    "## Can be edited\n",
    "file_dict = {\"2023-04-21 Diazinon_F132X\":\"Abs250 Diazion\",\n",
    "             \"2023-04-21 Paraoxon-ethyl_F132X\":\"Abs400 Paraoxon-ethyl\",\n",
    "             \"2023-04-21 Parathion-ethyl_F132X\":\"Abs400 Parathion-ethyl\"}\n",
    "\n",
    "# Parameters\n",
    "trials = [\"1\",\"2\",\"3\"]\n",
    "times = [\"0m\",\"30m\",\"1h\",\"2h\",\"4h\",\"6h\",\"18h\",\"24h\"]\n",
    "\n",
    "for folder_name in folders:\n",
    "    # Create new blank dataframe\n",
    "    Data = {}\n",
    "    for number in trials:\n",
    "        for time in times:\n",
    "            # Locate Excel in the folder\n",
    "            path = folder_name + \"/\" + file_dict[folder_name] + \"(\" + number + \")_\" + time + \".xlsx\"\n",
    "            print(path)\n",
    "            \n",
    "            # Load Excel and Specify Sheet\n",
    "            workbook = load_workbook(filename = path)\n",
    "            sheet = workbook[\"Result summary\"]\n",
    "            \n",
    "            #Calculate Blank\n",
    "            blank = (sheet[\"E61\"].value + sheet[\"E49\"].value)/2\n",
    "            \n",
    "            #Generate new list to collect calculated data\n",
    "            column = []\n",
    "            for value in sheet.iter_rows(min_row=6,\n",
    "                                          min_col=5,\n",
    "                                          max_col=5,\n",
    "                                          values_only=True):\n",
    "                 column.append(round(value[0] - blank,5))\n",
    "            Data[number + '_' + time] = column\n",
    "    \n",
    "    # Generate new Dataframe from all the trials and time\n",
    "    df = pd.DataFrame(Data)\n",
    "    df.index += 1\n",
    "    \n",
    "    # Calculate average value across each time\n",
    "    for time in times:\n",
    "        df['avg' + '_' + time] = (df['1_' + time ] + df['2_' + time] + df['3_' + time])/3\n",
    "        \n",
    "    # Save this Dataframe into Excel file\n",
    "    df.to_excel(folder_name + \"_OPD.xlsx\")  "
   ]
  },
  {
   "cell_type": "code",
   "execution_count": null,
   "id": "d75a107c",
   "metadata": {},
   "outputs": [],
   "source": []
  }
 ],
 "metadata": {
  "kernelspec": {
   "display_name": "Python 3 (ipykernel)",
   "language": "python",
   "name": "python3"
  },
  "language_info": {
   "codemirror_mode": {
    "name": "ipython",
    "version": 3
   },
   "file_extension": ".py",
   "mimetype": "text/x-python",
   "name": "python",
   "nbconvert_exporter": "python",
   "pygments_lexer": "ipython3",
   "version": "3.10.9"
  }
 },
 "nbformat": 4,
 "nbformat_minor": 5
}
