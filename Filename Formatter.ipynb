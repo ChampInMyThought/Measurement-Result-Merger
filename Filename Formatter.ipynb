{
 "cells": [
  {
   "cell_type": "markdown",
   "id": "7e4595a4",
   "metadata": {},
   "source": [
    "# Filename Formatter"
   ]
  },
  {
   "cell_type": "markdown",
   "id": "17899783",
   "metadata": {},
   "source": [
    "## Importing Packages and Dependencies\n",
    "\n",
    "### This code needs to be executed before using the notebook."
   ]
  },
  {
   "cell_type": "code",
   "execution_count": 2,
   "id": "e77929a1",
   "metadata": {},
   "outputs": [
    {
     "name": "stdout",
     "output_type": "stream",
     "text": [
      "/Users/theeradon/Downloads/2023-04-21 F132X assay_excel file\n"
     ]
    }
   ],
   "source": [
    "import json\n",
    "import os\n",
    "\n",
    "folder = os.getcwd()\n",
    "print(folder)"
   ]
  },
  {
   "cell_type": "markdown",
   "id": "26b687a8",
   "metadata": {},
   "source": [
    "## Proper File Naming Convention\n",
    "Please note that file names should not contain any spacebars after the substance name. \n",
    "\n",
    "### For example:\n",
    "\n",
    "❌ Incorrect: Abs400 Paraoxon-ethyl(1) _ 4h.xlsx\n",
    "\n",
    "✅ Correct: Abs400 Paraoxon-ethyl(1)_4h.xlsx\n",
    "\n",
    "❌ Incorrect: Abs250 Diazion (3)_24h.xlsx\n",
    "\n",
    "✅ Correct: Abs250 Diazion(3)_24h.xlsx"
   ]
  },
  {
   "cell_type": "markdown",
   "id": "554200bd",
   "metadata": {},
   "source": [
    "## Paraoxon-ethyl"
   ]
  },
  {
   "cell_type": "code",
   "execution_count": 3,
   "id": "f7e60d61",
   "metadata": {},
   "outputs": [
    {
     "data": {
      "text/plain": [
       "'Abs400 Paraoxon-ethyl(1)_4h.xlsx'"
      ]
     },
     "execution_count": 3,
     "metadata": {},
     "output_type": "execute_result"
    }
   ],
   "source": [
    "# Test out string slicing\n",
    "debug = \"Abs400 Paraoxon-ethyl (1) _ 4h.xlsx\"\n",
    "debug[0:21] + debug[22:25] + '_' + debug[28:]"
   ]
  },
  {
   "cell_type": "code",
   "execution_count": 5,
   "id": "01648f10",
   "metadata": {},
   "outputs": [
    {
     "name": "stdout",
     "output_type": "stream",
     "text": [
      "['2023-04-21 Parathion-ethyl_F132X', 'file name manipulation.ipynb', 'OD600 before break cell', 'OPD.ipynb', '.DS_Store', '2023-04-21 Diazinon_F132X', '2023-04-21 Paraoxon-ethyl_F132X', '2023-04-21 Phosalone_F132X', '.ipynb_checkpoints']\n"
     ]
    }
   ],
   "source": [
    "path = folder + \"/2023-04-21 Paraoxon-ethyl_F132X\"\n",
    "\n",
    "for files in os.listdir(path):\n",
    "    if files.endswith('.xlsx'):\n",
    "        oldName = os.path.join(path, files)\n",
    "        # Correct the name by convention\n",
    "        newName = os.path.join(path, files[0:21] + files[22:25] + '_' + files[28:])\n",
    "        # Rename the file\n",
    "        os.rename(oldName, newName)\n",
    "    else:\n",
    "        continue\n",
    "\n",
    "# Print out all the results\n",
    "res = os.listdir(folder)\n",
    "print(res)"
   ]
  },
  {
   "cell_type": "markdown",
   "id": "23737ffa",
   "metadata": {},
   "source": [
    "## Diazion"
   ]
  },
  {
   "cell_type": "code",
   "execution_count": 15,
   "id": "91c1d612",
   "metadata": {},
   "outputs": [
    {
     "data": {
      "text/plain": [
       "'Abs250 Diazion(3)_24h.xlsx'"
      ]
     },
     "execution_count": 15,
     "metadata": {},
     "output_type": "execute_result"
    }
   ],
   "source": [
    "# Test out string slicing\n",
    "debug = \"Abs250 Diazion (3)_24h.xlsx\"\n",
    "debug[0:14] + debug[15:]"
   ]
  },
  {
   "cell_type": "code",
   "execution_count": 16,
   "id": "7e949ca1",
   "metadata": {},
   "outputs": [
    {
     "name": "stdout",
     "output_type": "stream",
     "text": [
      "['2023-04-21 Parathion-ethyl_F132X', 'file name manipulation.ipynb', 'OD600 before break cell', 'OPD.ipynb', '.DS_Store', '2023-04-21 Diazinon_F132X', '2023-04-21 Paraoxon-ethyl_F132X', '2023-04-21 Phosalone_F132X', '.ipynb_checkpoints']\n"
     ]
    }
   ],
   "source": [
    "path = folder + \"/2023-04-21 Diazinon_F132X\"\n",
    "\n",
    "for files in os.listdir(path):\n",
    "    if files.endswith('.xlsx'):\n",
    "        oldName = os.path.join(path, files)\n",
    "        # Correct the name by convention\n",
    "        newName = os.path.join(path, files[0:14] + files[15:])\n",
    "        # Rename the file\n",
    "        os.rename(oldName, newName)\n",
    "    else:\n",
    "        continue\n",
    "\n",
    "# Print out all the results\n",
    "res = os.listdir(folder)\n",
    "print(res)"
   ]
  }
 ],
 "metadata": {
  "kernelspec": {
   "display_name": "Python 3 (ipykernel)",
   "language": "python",
   "name": "python3"
  },
  "language_info": {
   "codemirror_mode": {
    "name": "ipython",
    "version": 3
   },
   "file_extension": ".py",
   "mimetype": "text/x-python",
   "name": "python",
   "nbconvert_exporter": "python",
   "pygments_lexer": "ipython3",
   "version": "3.10.9"
  }
 },
 "nbformat": 4,
 "nbformat_minor": 5
}
